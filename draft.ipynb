{
  "cells": [
    {
      "cell_type": "code",
      "execution_count": null,
      "metadata": {
        "id": "kJpsbsIYmUTJ"
      },
      "outputs": [],
      "source": [
        "import os\n",
        "import sys\n",
        "import numpy as np\n",
        "import random\n",
        "import matplotlib.pyplot as plt\n",
        "\n",
        "## torch\n",
        "import torch\n",
        "import torch.nn as nn\n",
        "import torch.nn.functional as F\n",
        "import torch.utils.data as data\n",
        "import torch.optim as optim\n",
        "\n",
        "\n",
        "import torch.distributed as dist\n",
        "## Torchvision\n",
        "import torchvision\n",
        "from torchvision.datasets import MNIST\n",
        "import torchvision.transforms as T\n",
        "from torch.utils.data import DataLoader, Subset , random_split\n",
        "import torchvision.models as models\n"
      ]
    },
    {
      "cell_type": "code",
      "source": [
        "DATASET_PATH = \"./data\"\n",
        "random.seed(42)\n",
        "#Device\n",
        "device = torch.device(\"cuda:0\") if torch.cuda.is_available() else torch.device(\"cpu\")\n",
        "print(\"Device:\", device)"
      ],
      "metadata": {
        "colab": {
          "base_uri": "https://localhost:8080/"
        },
        "id": "BuNEHNZhoToH",
        "outputId": "ee70a905-3a1c-419a-ac96-5bbd352d6cb9"
      },
      "execution_count": null,
      "outputs": [
        {
          "output_type": "stream",
          "name": "stdout",
          "text": [
            "Device: cuda:0\n"
          ]
        }
      ]
    },
    {
      "cell_type": "code",
      "source": [
        "from google.colab import drive\n",
        "drive.mount('/content/drive')\n"
      ],
      "metadata": {
        "colab": {
          "base_uri": "https://localhost:8080/"
        },
        "id": "vCOT4omCmdjw",
        "outputId": "735d51a9-4f82-4772-b38f-a128a5e744c3"
      },
      "execution_count": null,
      "outputs": [
        {
          "output_type": "stream",
          "name": "stdout",
          "text": [
            "Mounted at /content/drive\n"
          ]
        }
      ]
    },
    {
      "cell_type": "code",
      "source": [
        "project_path = '/content/drive/My Drive/self_supervised_learning'\n",
        "os.chdir(project_path)\n",
        "\n",
        "print(\"Current directory:\", os.getcwd())"
      ],
      "metadata": {
        "colab": {
          "base_uri": "https://localhost:8080/"
        },
        "id": "kNH6qhiVmrPO",
        "outputId": "704733c3-3aed-40b4-8429-0d36cad9ad3a"
      },
      "execution_count": null,
      "outputs": [
        {
          "output_type": "stream",
          "name": "stdout",
          "text": [
            "Current directory: /content/drive/My Drive/self_supervised_learning\n"
          ]
        }
      ]
    },
    {
      "cell_type": "code",
      "execution_count": null,
      "metadata": {
        "id": "ZFZhoyblmUTM"
      },
      "outputs": [],
      "source": [
        "from files.models import *"
      ]
    },
    {
      "cell_type": "markdown",
      "metadata": {
        "id": "802q483jmUTN"
      },
      "source": [
        "#### Data Preparation : Partionning & preprocesing"
      ]
    },
    {
      "cell_type": "markdown",
      "metadata": {
        "id": "XrQug0BumUTO"
      },
      "source": [
        "## **MNIST**\n",
        "\n",
        " Let's start by downloading the **MNIST** dataset: a very common and large database of grayscale images showing handwritten digits ranging from 0 to 9. It comprises 60,000 training images and 10,000 testing images of size 28x28.\n"
      ]
    },
    {
      "cell_type": "code",
      "execution_count": null,
      "metadata": {
        "id": "uJPJwLufmUTO"
      },
      "outputs": [],
      "source": [
        "# Transform to normalized Tensors in the range [0,1]\n",
        "\n",
        "transform = T.Compose([T.Pad(2) #to cope with the assumption about the \"same number of input pixels per image\", we choose the input dimension of 32x32 for all datasets. We thus resize all images (originally 28x28) using the padding function \"Pad\" (add 0 to the borders).\n",
        "                       , T.ToTensor(), T.Normalize((0.5,), (0.5,))])"
      ]
    },
    {
      "cell_type": "code",
      "execution_count": null,
      "metadata": {
        "id": "IWr4nLb6mUTO"
      },
      "outputs": [],
      "source": [
        "MNIST_train_dataset = MNIST(root=DATASET_PATH, train= True, download=True, transform=transform)\n",
        "MNIST_test_dataset = MNIST(root=DATASET_PATH, train= False, download=True, transform=transform)"
      ]
    },
    {
      "cell_type": "code",
      "execution_count": null,
      "metadata": {
        "colab": {
          "base_uri": "https://localhost:8080/"
        },
        "id": "KlDQVABwmUTP",
        "outputId": "ed694774-3183-40f6-acae-2087011154d8"
      },
      "outputs": [
        {
          "output_type": "execute_result",
          "data": {
            "text/plain": [
              "(Dataset MNIST\n",
              "     Number of datapoints: 60000\n",
              "     Root location: ./data\n",
              "     Split: Train\n",
              "     StandardTransform\n",
              " Transform: Compose(\n",
              "                Pad(padding=2, fill=0, padding_mode=constant)\n",
              "                ToTensor()\n",
              "                Normalize(mean=(0.5,), std=(0.5,))\n",
              "            ),\n",
              " Dataset MNIST\n",
              "     Number of datapoints: 10000\n",
              "     Root location: ./data\n",
              "     Split: Test\n",
              "     StandardTransform\n",
              " Transform: Compose(\n",
              "                Pad(padding=2, fill=0, padding_mode=constant)\n",
              "                ToTensor()\n",
              "                Normalize(mean=(0.5,), std=(0.5,))\n",
              "            ))"
            ]
          },
          "metadata": {},
          "execution_count": 8
        }
      ],
      "source": [
        "MNIST_train_dataset, MNIST_test_dataset"
      ]
    },
    {
      "cell_type": "code",
      "execution_count": null,
      "metadata": {
        "colab": {
          "base_uri": "https://localhost:8080/",
          "height": 270
        },
        "id": "4O4fQueNmUTP",
        "outputId": "00067662-0976-4e7f-e7b6-b861538fa653"
      },
      "outputs": [
        {
          "output_type": "display_data",
          "data": {
            "text/plain": [
              "<Figure size 800x800 with 1 Axes>"
            ],
            "image/png": "[encoded data removed]"
          },
          "metadata": {}
        }
      ],
      "source": [
        "# Visualize some examples\n",
        "NUM_IMAGES = 12\n",
        "MNIST_images = torch.stack([MNIST_train_dataset[np.random.randint(len(MNIST_train_dataset))][0] for idx in range(NUM_IMAGES)], dim=0)\n",
        "img_grid = torchvision.utils.make_grid(MNIST_images, nrow=6, normalize=True, pad_value=0.9)\n",
        "img_grid = img_grid.permute(1, 2, 0)\n",
        "\n",
        "plt.figure(figsize=(8,8))\n",
        "plt.title(\"Image examples of the MNIST dataset\")\n",
        "plt.imshow(img_grid)\n",
        "plt.axis('off')\n",
        "plt.show()\n",
        "plt.close()"
      ]
    },
    {
      "cell_type": "code",
      "execution_count": null,
      "metadata": {
        "colab": {
          "base_uri": "https://localhost:8080/"
        },
        "id": "6WRLTdhdmUTQ",
        "outputId": "9accb23c-b036-40ad-aefc-4fe16434bed6"
      },
      "outputs": [
        {
          "output_type": "stream",
          "name": "stdout",
          "text": [
            "Batch Mean: -0.8086686134338379\n",
            "Batch Std: 0.5371983051300049\n",
            "Batch Min: -1.0\n",
            "Batch Max: 1.0\n"
          ]
        }
      ],
      "source": [
        "# use DataLoader to keep applied transformation when download the data..\n",
        "\n",
        "MNIST_train_loader = torch.utils.data.DataLoader(MNIST_train_dataset, batch_size=64, shuffle=True)\n",
        "MNIST_test_loader = torch.utils.data.DataLoader(MNIST_test_dataset, batch_size=64, shuffle=False)\n",
        "# help(MNIST_train_loader)\n",
        "#check stats :\n",
        "data_iter = iter(MNIST_train_loader)\n",
        "images, labels = next(data_iter)\n",
        "\n",
        "mean = images.mean()\n",
        "std = images.std()\n",
        "min_val = images.min()\n",
        "max_val = images.max()\n",
        "\n",
        "print(f'Batch Mean: {mean.item()}')\n",
        "print(f'Batch Std: {std.item()}')\n",
        "print(f'Batch Min: {min_val.item()}')\n",
        "print(f'Batch Max: {max_val.item()}')"
      ]
    },
    {
      "cell_type": "code",
      "execution_count": null,
      "metadata": {
        "colab": {
          "base_uri": "https://localhost:8080/"
        },
        "id": "b-2zG81AmUTQ",
        "outputId": "f273172b-11e6-4200-f00e-ca1644bf08d2"
      },
      "outputs": [
        {
          "output_type": "stream",
          "name": "stdout",
          "text": [
            "torch.Size([64, 1, 32, 32])\n",
            "torch.Size([64])\n"
          ]
        }
      ],
      "source": [
        "train_images, train_labels = next(iter(MNIST_train_loader))\n",
        "print(train_images.shape)\n",
        "print(train_labels.shape)"
      ]
    },
    {
      "cell_type": "markdown",
      "metadata": {
        "id": "B--kYbQsmUTQ"
      },
      "source": [
        "### Baseline Model Setup : extent with limited labeled data"
      ]
    },
    {
      "cell_type": "code",
      "execution_count": null,
      "metadata": {
        "id": "dARBQn-gmUTQ"
      },
      "outputs": [],
      "source": [
        "indices = np.random.permutation(len(MNIST_train_dataset))[:100]\n",
        "train_100= Subset(MNIST_train_dataset, indices)\n"
      ]
    },
    {
      "cell_type": "code",
      "source": [
        "train_100_loader = DataLoader(train_100, batch_size=10, shuffle=True)"
      ],
      "metadata": {
        "id": "TWwrPfZVxUNa"
      },
      "execution_count": null,
      "outputs": []
    },
    {
      "cell_type": "code",
      "execution_count": null,
      "metadata": {
        "colab": {
          "base_uri": "https://localhost:8080/"
        },
        "id": "E1McYye4mUTR",
        "outputId": "12c685c4-186e-4753-ceeb-11f2f587bd44"
      },
      "outputs": [
        {
          "output_type": "execute_result",
          "data": {
            "text/plain": [
              "(torch.Size([1, 32, 32]), 4)"
            ]
          },
          "metadata": {},
          "execution_count": 14
        }
      ],
      "source": [
        "image, label = train_100[0]\n",
        "image.shape, label\n"
      ]
    },
    {
      "cell_type": "code",
      "execution_count": null,
      "metadata": {
        "id": "UkUuSvKkmUTR"
      },
      "outputs": [],
      "source": [
        "model = Basic_CNN()\n",
        "\n",
        "criterion = nn.CrossEntropyLoss()\n",
        "optimizer = torch.optim.Adam(model.parameters(), lr=0.001)\n"
      ]
    },
    {
      "cell_type": "code",
      "execution_count": null,
      "metadata": {
        "colab": {
          "base_uri": "https://localhost:8080/"
        },
        "id": "moKDU3CfmUTR",
        "outputId": "5e6fc8a4-d97a-4948-deca-505fa39bdbe5"
      },
      "outputs": [
        {
          "output_type": "stream",
          "name": "stdout",
          "text": [
            "Epoch [1/10], Loss: 2.5011\n",
            "Epoch [2/10], Loss: 1.8189\n",
            "Epoch [3/10], Loss: 1.1825\n",
            "Epoch [4/10], Loss: 0.8045\n",
            "Epoch [5/10], Loss: 0.5511\n",
            "Epoch [6/10], Loss: 0.3787\n",
            "Epoch [7/10], Loss: 0.2660\n",
            "Epoch [8/10], Loss: 0.2021\n",
            "Epoch [9/10], Loss: 0.1603\n",
            "Epoch [10/10], Loss: 0.1175\n"
          ]
        }
      ],
      "source": [
        "num_epochs = 10\n",
        "model.train()\n",
        "for epoch in range(num_epochs):\n",
        "    running_loss = 0.0\n",
        "    for images, labels in train_100_loader:\n",
        "        optimizer.zero_grad()\n",
        "        outputs = model(images)\n",
        "        loss = criterion(outputs, labels)\n",
        "        loss.backward()\n",
        "        optimizer.step()\n",
        "\n",
        "        running_loss += loss.item()\n",
        "\n",
        "    print(f\"Epoch [{epoch+1}/{num_epochs}], Loss: {running_loss/len(train_100_loader):.4f}\")"
      ]
    },
    {
      "cell_type": "code",
      "execution_count": null,
      "metadata": {
        "colab": {
          "base_uri": "https://localhost:8080/"
        },
        "id": "NQcbGA0wmUTR",
        "outputId": "c937d5ef-b6f6-43ff-b5f4-f5fd34342503"
      },
      "outputs": [
        {
          "output_type": "stream",
          "name": "stdout",
          "text": [
            "Accuracy on the test set (10K): 77.47%\n"
          ]
        }
      ],
      "source": [
        "model.eval()\n",
        "correct = 0\n",
        "total = 0\n",
        "\n",
        "with torch.no_grad():\n",
        "    for images, labels in MNIST_test_loader:\n",
        "        outputs = model(images)\n",
        "        _, predicted = torch.max(outputs, 1)\n",
        "        total += labels.size(0)\n",
        "        correct += (predicted == labels).sum().item()\n",
        "\n",
        "print(f\"Accuracy on the test set (10K): {100 * correct / total:.2f}%\")"
      ]
    },
    {
      "cell_type": "markdown",
      "source": [
        "### Apply MoCo :\n",
        "workflow : Self-Supervised Pretraining --> Supervised Fine-Tuning --> evaluation"
      ],
      "metadata": {
        "id": "y1l2J7YU58Pb"
      }
    },
    {
      "cell_type": "markdown",
      "metadata": {
        "id": "-CWMXxyLmUTS"
      },
      "source": [
        "MoCo was implemented on RGB ImageNet data with and ResNet encoder"
      ]
    },
    {
      "cell_type": "markdown",
      "metadata": {
        "id": "aG1fv0_BmUTS"
      },
      "source": [
        "* modify MoCo loader to handle our data\n",
        "* configuration (explore light encoder beside resnet(mnist is too simple than imageNet))"
      ]
    },
    {
      "cell_type": "code",
      "source": [
        "# !git clone https://github.com/facebookresearch/moco.git\n"
      ],
      "metadata": {
        "colab": {
          "base_uri": "https://localhost:8080/"
        },
        "id": "NtIYogVcnddU",
        "outputId": "dc4912c6-764a-45bf-9305-e108487e0ef4"
      },
      "execution_count": null,
      "outputs": [
        {
          "output_type": "stream",
          "name": "stdout",
          "text": [
            "fatal: destination path 'moco' already exists and is not an empty directory.\n"
          ]
        }
      ]
    },
    {
      "cell_type": "code",
      "source": [
        "\n",
        "class MoCo(nn.Module):\n",
        "    \"\"\"\n",
        "    Build a MoCo model with: a query encoder, a key encoder, and a queue.\n",
        "    https://arxiv.org/abs/1911.05722\n",
        "    \"\"\"\n",
        "\n",
        "    def __init__(self, base_encoder, dim=128, K=65536, m=0.999, T=0.07, mlp=False):\n",
        "        \"\"\"\n",
        "        dim: feature dimension (default: 128)\n",
        "        K: queue size; number of negative keys (default: 65536)\n",
        "        m: momentum of updating key encoder (default: 0.999)\n",
        "        T: softmax temperature (default: 0.07)\n",
        "        \"\"\"\n",
        "        super(MoCo, self).__init__()\n",
        "\n",
        "        self.K = K\n",
        "        self.m = m\n",
        "        self.T = T\n",
        "\n",
        "\n",
        "        self.encoder_q = base_encoder(num_classes=dim)\n",
        "        self.encoder_k = base_encoder(num_classes=dim)\n",
        "\n",
        "        if mlp:\n",
        "            dim_mlp = self.encoder_q.fc.weight.shape[1]\n",
        "            self.encoder_q.fc = nn.Sequential(\n",
        "                nn.Linear(dim_mlp, dim_mlp), nn.ReLU(), self.encoder_q.fc\n",
        "            )\n",
        "            self.encoder_k.fc = nn.Sequential(\n",
        "                nn.Linear(dim_mlp, dim_mlp), nn.ReLU(), self.encoder_k.fc\n",
        "            )\n",
        "\n",
        "        for param_q, param_k in zip(self.encoder_q.parameters(), self.encoder_k.parameters()):\n",
        "            param_k.data.copy_(param_q.data)\n",
        "            param_k.requires_grad = False\n",
        "\n",
        "        self.register_buffer(\"queue\", torch.randn(dim, K))\n",
        "        self.queue = F.normalize(self.queue, dim=0)\n",
        "        self.register_buffer(\"queue_ptr\", torch.zeros(1, dtype=torch.long))\n",
        "\n",
        "    @torch.no_grad()\n",
        "    def _momentum_update_key_encoder(self):\n",
        "        \"\"\"\n",
        "        Momentum update of the key encoder.\n",
        "        \"\"\"\n",
        "        for param_q, param_k in zip(self.encoder_q.parameters(), self.encoder_k.parameters()):\n",
        "            param_k.data = param_k.data * self.m + param_q.data * (1.0 - self.m)\n",
        "\n",
        "    @torch.no_grad()\n",
        "    def _dequeue_and_enqueue(self, keys):\n",
        "        \"\"\"\n",
        "        Dequeue the oldest keys and enqueue the new ones.\n",
        "        \"\"\"\n",
        "        batch_size = keys.shape[0]\n",
        "\n",
        "        ptr = int(self.queue_ptr)\n",
        "        self.queue[:, ptr:ptr + batch_size] = keys.T\n",
        "        ptr = (ptr + batch_size) % self.K\n",
        "        self.queue_ptr[0] = ptr\n",
        "\n",
        "    def forward(self, im_q, im_k):\n",
        "        \"\"\"\n",
        "        Compute logits and labels for contrastive loss.\n",
        "        \"\"\"\n",
        "        q = self.encoder_q(im_q)\n",
        "        q = F.normalize(q, dim=1)\n",
        "\n",
        "        with torch.no_grad():\n",
        "            self._momentum_update_key_encoder()\n",
        "            k = self.encoder_k(im_k)\n",
        "            k = F.normalize(k, dim=1)\n",
        "\n",
        "\n",
        "        l_pos = torch.einsum('nc,nc->n', [q, k]).unsqueeze(-1)\n",
        "        l_neg = torch.einsum('nc,ck->nk', [q, self.queue.clone().detach()])\n",
        "        logits = torch.cat([l_pos, l_neg], dim=1)\n",
        "        logits /= self.T  #temperature scaling\n",
        "\n",
        "\n",
        "        labels = torch.zeros(logits.shape[0], dtype=torch.long).cuda()\n",
        "\n",
        "\n",
        "        self._dequeue_and_enqueue(k)\n",
        "\n",
        "        return logits, labels\n"
      ],
      "metadata": {
        "id": "Xrp-N_N-0ceh"
      },
      "execution_count": null,
      "outputs": []
    },
    {
      "cell_type": "code",
      "source": [
        "def simple_encoder(num_classes):\n",
        "    model = models.resnet18(weights=False)\n",
        "    model.fc = nn.Linear(model.fc.in_features, num_classes)\n",
        "    return model"
      ],
      "metadata": {
        "id": "9PlrypLf0lKE"
      },
      "execution_count": null,
      "outputs": []
    },
    {
      "cell_type": "code",
      "source": [
        "import sys\n",
        "sys.path.append(os.path.abspath('./moco'))\n",
        "\n",
        "print(\"Python path:\", sys.path)"
      ],
      "metadata": {
        "colab": {
          "base_uri": "https://localhost:8080/"
        },
        "id": "a0HfhtkC1dJa",
        "outputId": "fc6126a2-3a9a-4d8f-9651-50403c9ff9f0"
      },
      "execution_count": null,
      "outputs": [
        {
          "output_type": "stream",
          "name": "stdout",
          "text": [
            "Python path: ['/content', '/env/python', '/usr/lib/python310.zip', '/usr/lib/python3.10', '/usr/lib/python3.10/lib-dynload', '', '/usr/local/lib/python3.10/dist-packages', '/usr/lib/python3/dist-packages', '/usr/local/lib/python3.10/dist-packages/IPython/extensions', '/usr/local/lib/python3.10/dist-packages/setuptools/_vendor', '/root/.ipython', '/tmp/tmp17_bihm3', '/content/drive/MyDrive/self_supervised_learning/moco', '/content/drive/MyDrive/self_supervised_learning/moco', '/content/drive/MyDrive/self_supervised_learning/moco/moco']\n"
          ]
        }
      ]
    },
    {
      "cell_type": "code",
      "source": [
        "%ls moco\n"
      ],
      "metadata": {
        "colab": {
          "base_uri": "https://localhost:8080/"
        },
        "id": "rZjaHR1Q1yrB",
        "outputId": "31a653ed-4447-4d47-eadb-e7c90d3be646"
      },
      "execution_count": null,
      "outputs": [
        {
          "output_type": "stream",
          "name": "stdout",
          "text": [
            "builder.py  __init__.py  loader.py  \u001b[0m\u001b[01;34m__pycache__\u001b[0m/\n"
          ]
        }
      ]
    },
    {
      "cell_type": "code",
      "source": [
        "from moco.moco.loader import TwoCropsTransform"
      ],
      "metadata": {
        "id": "rJKEpDU9oRZl"
      },
      "execution_count": null,
      "outputs": []
    },
    {
      "cell_type": "code",
      "source": [
        "moco_model = MoCo(base_encoder=simple_encoder, dim=128, K=4096, mlp=True)\n",
        "moco_model = moco_model.to(device)"
      ],
      "metadata": {
        "colab": {
          "base_uri": "https://localhost:8080/"
        },
        "id": "jy0dYKP62BV8",
        "outputId": "5fadcd7d-e105-4b3e-a03f-53c5cf4db8db"
      },
      "execution_count": null,
      "outputs": [
        {
          "output_type": "stream",
          "name": "stderr",
          "text": [
            "/usr/local/lib/python3.10/dist-packages/torchvision/models/_utils.py:223: UserWarning: Arguments other than a weight enum or `None` for 'weights' are deprecated since 0.13 and may be removed in the future. The current behavior is equivalent to passing `weights=None`.\n",
            "  warnings.warn(msg)\n"
          ]
        }
      ]
    },
    {
      "cell_type": "code",
      "source": [
        "batch_size = 8\n",
        "nb_workers = 2"
      ],
      "metadata": {
        "id": "tly3E29Uq3pe"
      },
      "execution_count": null,
      "outputs": []
    },
    {
      "cell_type": "code",
      "source": [
        "base_transform = T.Compose([\n",
        "    T.Grayscale(num_output_channels=3),\n",
        "    T.RandomResizedCrop(128, scale=(0.2, 1.0)),\n",
        "    T.RandomHorizontalFlip(),\n",
        "    T.ToTensor(),\n",
        "    T.Normalize(mean=[0.485, 0.456, 0.406], std=[0.229, 0.224, 0.225]),\n",
        "])\n",
        "\n",
        "\n",
        "# Apply TwoCropsTransform\n",
        "Moco_train_transform = TwoCropsTransform(base_transform)"
      ],
      "metadata": {
        "id": "1uHsjZzdqFh7"
      },
      "execution_count": null,
      "outputs": []
    },
    {
      "cell_type": "code",
      "source": [
        "MNIST_train_dataset = MNIST(root=DATASET_PATH, train=True, download=True, transform=Moco_train_transform)\n",
        "\n",
        "\n",
        "all_indices = np.arange(len(MNIST_train_dataset))\n",
        "rest_indices = np.setdiff1d(all_indices, indices) #indices are the 100 indices labeled\n",
        "train_unlabeled = Subset(MNIST_train_dataset, rest_indices)\n",
        "\n",
        "train_loader = DataLoader(train_unlabeled, batch_size=batch_size, shuffle=True, num_workers=nb_workers, pin_memory=True)\n"
      ],
      "metadata": {
        "id": "7RmpqW7jqmDG"
      },
      "execution_count": null,
      "outputs": []
    },
    {
      "cell_type": "code",
      "source": [
        "for epoch in range(10):\n",
        "    for images, _ in train_loader:\n",
        "        # images is a batch of lists, where each list contains [q, k]\n",
        "        im_q = torch.stack([x[0] for x in images]).cuda()  # Stack and move to GPU\n",
        "        im_k = torch.stack([x[1] for x in images]).cuda()\n",
        "\n",
        "        logits, labels = moco_model(im_q, im_k)\n",
        "\n",
        "        # contrastive loss\n",
        "        loss = nn.CrossEntropyLoss()(logits, labels)\n",
        "\n",
        "        optimizer.zero_grad()\n",
        "        loss.backward()\n",
        "        optimizer.step()\n",
        "\n",
        "    print(f\"Epoch {epoch + 1}, Loss: {loss.item()}\")\n"
      ],
      "metadata": {
        "colab": {
          "base_uri": "https://localhost:8080/"
        },
        "id": "sEE-F6j32ONB",
        "outputId": "e804ea22-eca9-4b14-dc33-2b758347cc14"
      },
      "execution_count": null,
      "outputs": [
        {
          "output_type": "stream",
          "name": "stdout",
          "text": [
            "Epoch 1, Loss: 8.649298667907715\n",
            "Epoch 2, Loss: 8.253222465515137\n",
            "Epoch 3, Loss: 8.280200004577637\n",
            "Epoch 4, Loss: 8.502165794372559\n",
            "Epoch 5, Loss: 8.298921585083008\n",
            "Epoch 6, Loss: 8.337882995605469\n",
            "Epoch 7, Loss: 8.362114906311035\n",
            "Epoch 8, Loss: 8.334863662719727\n",
            "Epoch 9, Loss: 8.432254791259766\n",
            "Epoch 10, Loss: 8.298063278198242\n"
          ]
        }
      ]
    },
    {
      "cell_type": "code",
      "source": [
        "# torch.save(moco_model, \"/content/drive/My Drive/self_supervised_learning/trained_models/moco_model_10.pth\")\n",
        "# torch.save(moco_model.state_dict(), \"/content/drive/My Drive/self_supervised_learning/trained_models/moco_state_dict_10.pth\")\n",
        "# torch.save({\n",
        "# 'epoch': 10,\n",
        "# 'model_state_dict': moco_model.state_dict(),\n",
        "# 'optimizer_state_dict': optimizer.state_dict(),\n",
        "# }, \"/content/drive/My Drive/self_supervised_learning/trained_models/moco_checkpoint_10.pth\")"
      ],
      "metadata": {
        "id": "Znj2-lrv3nnz"
      },
      "execution_count": null,
      "outputs": []
    },
    {
      "cell_type": "code",
      "source": [
        "moco_model = torch.load(\"/content/drive/My Drive/self_supervised_learning/trained_models/moco_model_10.pth\")"
      ],
      "metadata": {
        "colab": {
          "base_uri": "https://localhost:8080/"
        },
        "id": "pIVLpS-KIwme",
        "outputId": "498ca6a0-f443-4264-c12c-631240b47454"
      },
      "execution_count": null,
      "outputs": [
        {
          "output_type": "stream",
          "name": "stderr",
          "text": [
            "<ipython-input-206-b2edf3aa5fc3>:1: FutureWarning: You are using `torch.load` with `weights_only=False` (the current default value), which uses the default pickle module implicitly. It is possible to construct malicious pickle data which will execute arbitrary code during unpickling (See https://github.com/pytorch/pytorch/blob/main/SECURITY.md#untrusted-models for more details). In a future release, the default value for `weights_only` will be flipped to `True`. This limits the functions that could be executed during unpickling. Arbitrary objects will no longer be allowed to be loaded via this mode unless they are explicitly allowlisted by the user via `torch.serialization.add_safe_globals`. We recommend you start setting `weights_only=True` for any use case where you don't have full control of the loaded file. Please open an issue on GitHub for any issues related to this experimental feature.\n",
            "  moco_model = torch.load(\"/content/drive/My Drive/self_supervised_learning/trained_models/moco_model_10.pth\")\n"
          ]
        }
      ]
    },
    {
      "cell_type": "markdown",
      "source": [
        "Fine-Tuning : Use the 100 labeled samples to train a classification head on top of the pretrained MoCo encoder"
      ],
      "metadata": {
        "id": "xY77JWHD-bSz"
      }
    },
    {
      "cell_type": "code",
      "source": [
        "#reloading data with a simple transform  fct  to fine-tune with consistency ..\n",
        "labeled_transform = T.Compose([\n",
        "    T.Grayscale(num_output_channels=3),\n",
        "    T.ToTensor(),\n",
        "    T.Normalize(mean=[0.5, 0.5, 0.5], std=[0.5, 0.5, 0.5])\n",
        "])\n",
        "\n",
        "\n",
        "MNIST_train_dataset = MNIST(root=DATASET_PATH, train=True, transform=labeled_transform)\n",
        "train_100 = Subset(MNIST_train_dataset, indices)\n",
        "train_100_loader = DataLoader(train_100, batch_size=10, shuffle=True)\n",
        "\n"
      ],
      "metadata": {
        "id": "diSYFWoH6i1f"
      },
      "execution_count": null,
      "outputs": []
    },
    {
      "cell_type": "code",
      "source": [
        "for images, _ in train_100_loader:\n",
        "    print(images.shape)\n",
        "    break\n"
      ],
      "metadata": {
        "colab": {
          "base_uri": "https://localhost:8080/"
        },
        "id": "ZWAp6AabLMFX",
        "outputId": "a4bc7f71-502f-4d26-f09b-f8247783af2b"
      },
      "execution_count": null,
      "outputs": [
        {
          "output_type": "stream",
          "name": "stdout",
          "text": [
            "torch.Size([10, 3, 28, 28])\n"
          ]
        }
      ]
    },
    {
      "cell_type": "code",
      "source": [
        "for param in moco_model.encoder_q.parameters():\n",
        "    param.requires_grad = False  # Keep the encoder frozen\n",
        "for param in moco_model.encoder_q.fc.parameters():\n",
        "    param.requires_grad = True  # Enable gradients for the classification head"
      ],
      "metadata": {
        "id": "5JPmt0q38je0"
      },
      "execution_count": null,
      "outputs": []
    },
    {
      "cell_type": "code",
      "source": [
        "print(moco_model.encoder_q.fc)\n"
      ],
      "metadata": {
        "colab": {
          "base_uri": "https://localhost:8080/"
        },
        "id": "_LIz9cczI6or",
        "outputId": "5f621458-da9d-4b54-e944-37d9af13a299"
      },
      "execution_count": null,
      "outputs": [
        {
          "output_type": "stream",
          "name": "stdout",
          "text": [
            "Sequential(\n",
            "  (0): Linear(in_features=512, out_features=512, bias=True)\n",
            "  (1): ReLU()\n",
            "  (2): Linear(in_features=512, out_features=128, bias=True)\n",
            ")\n"
          ]
        }
      ]
    },
    {
      "cell_type": "code",
      "source": [
        "# moco_model.encoder_q"
      ],
      "metadata": {
        "collapsed": true,
        "id": "N9yTv2GcFoFu"
      },
      "execution_count": null,
      "outputs": []
    },
    {
      "cell_type": "code",
      "source": [
        "# original_conv1 = moco_model.encoder_q.conv1\n",
        "# moco_model.encoder_q.conv1 = nn.Conv2d(3, 64, kernel_size=7, stride=2, padding=3, bias=False)\n",
        "\n",
        "# moco_model.encoder_q.conv1.weight.data = original_conv1.weight.data.repeat(3, 1, 1, 1) / 3"
      ],
      "metadata": {
        "id": "BPZ6DnoAIK96"
      },
      "execution_count": null,
      "outputs": []
    },
    {
      "cell_type": "code",
      "source": [
        "print(moco_model.encoder_q.fc)"
      ],
      "metadata": {
        "colab": {
          "base_uri": "https://localhost:8080/"
        },
        "id": "evD2_CALL0F_",
        "outputId": "cb8ce966-14ff-4dfb-9033-911171206d8a"
      },
      "execution_count": null,
      "outputs": [
        {
          "output_type": "stream",
          "name": "stdout",
          "text": [
            "Sequential(\n",
            "  (0): Linear(in_features=512, out_features=512, bias=True)\n",
            "  (1): ReLU()\n",
            "  (2): Linear(in_features=512, out_features=128, bias=True)\n",
            ")\n"
          ]
        }
      ]
    },
    {
      "cell_type": "code",
      "source": [
        "print(moco_model.encoder_q.conv1)\n",
        "print(moco_model.encoder_q.bn1)"
      ],
      "metadata": {
        "colab": {
          "base_uri": "https://localhost:8080/"
        },
        "id": "oct7ILT5L3Lq",
        "outputId": "80d9afb2-216d-4d8d-ad52-27d852bd7544"
      },
      "execution_count": null,
      "outputs": [
        {
          "output_type": "stream",
          "name": "stdout",
          "text": [
            "Conv2d(3, 64, kernel_size=(7, 7), stride=(2, 2), padding=(3, 3), bias=False)\n",
            "BatchNorm2d(64, eps=1e-05, momentum=0.1, affine=True, track_running_stats=True)\n"
          ]
        }
      ]
    },
    {
      "cell_type": "code",
      "source": [
        "moco_model.encoder_q = moco_model.encoder_q.cuda()\n"
      ],
      "metadata": {
        "id": "fb0azk0GM3fz"
      },
      "execution_count": null,
      "outputs": []
    },
    {
      "cell_type": "code",
      "source": [
        "optimizer = torch.optim.Adam(moco_model.encoder_q.fc.parameters(), lr=0.001)\n",
        "\n",
        "for epoch in range(10):\n",
        "    for images, labels in train_100_loader:\n",
        "        # print(images.shape)  # [batch_size, 3, 28, 28]\n",
        "        # break\n",
        "        images, labels = images.cuda(), labels.cuda()\n",
        "\n",
        "        outputs = moco_model.encoder_q(images)\n",
        "        loss = nn.CrossEntropyLoss()(outputs, labels)\n",
        "\n",
        "\n",
        "        optimizer.zero_grad()\n",
        "        loss.backward()\n",
        "        optimizer.step()\n",
        "\n",
        "    print(f\"Fine-tuning Epoch {epoch + 1}, Loss: {loss.item()}\")\n"
      ],
      "metadata": {
        "colab": {
          "base_uri": "https://localhost:8080/"
        },
        "id": "FmoVdLgr8pmL",
        "outputId": "0f4ee6ee-4292-41e6-e71b-c29833b08c68"
      },
      "execution_count": null,
      "outputs": [
        {
          "output_type": "stream",
          "name": "stdout",
          "text": [
            "Fine-tuning Epoch 1, Loss: 2.4975180625915527\n",
            "Fine-tuning Epoch 2, Loss: 1.3721848726272583\n",
            "Fine-tuning Epoch 3, Loss: 1.735158920288086\n",
            "Fine-tuning Epoch 4, Loss: 0.657180666923523\n",
            "Fine-tuning Epoch 5, Loss: 0.8256850242614746\n",
            "Fine-tuning Epoch 6, Loss: 0.24648284912109375\n",
            "Fine-tuning Epoch 7, Loss: 0.3388679623603821\n",
            "Fine-tuning Epoch 8, Loss: 0.2687642574310303\n",
            "Fine-tuning Epoch 9, Loss: 0.18143151700496674\n",
            "Fine-tuning Epoch 10, Loss: 0.06478115171194077\n"
          ]
        }
      ]
    },
    {
      "cell_type": "code",
      "source": [
        "MNIST_test_dataset = MNIST(root=DATASET_PATH, train=False, download=True, transform=labeled_transform)\n",
        "test_loader = DataLoader(MNIST_test_dataset, batch_size=64, shuffle=False)"
      ],
      "metadata": {
        "id": "mfO_voB1966H"
      },
      "execution_count": null,
      "outputs": []
    },
    {
      "cell_type": "code",
      "source": [
        "test_loader = DataLoader(MNIST(root=DATASET_PATH, train=False, transform=base_transform), batch_size=batch_size)\n",
        "\n",
        "correct = 0\n",
        "total = 0\n",
        "with torch.no_grad():\n",
        "    for images, labels in test_loader:\n",
        "        images, labels = images.cuda(), labels.cuda()\n",
        "        outputs = moco_model.encoder_q(images)\n",
        "        _, predicted = torch.max(outputs, 1)\n",
        "        correct += (predicted == labels).sum().item()\n",
        "        total += labels.size(0)\n",
        "\n",
        "print(f\"Test Accuracy: {100 * correct / total:.2f}%\")\n"
      ],
      "metadata": {
        "colab": {
          "base_uri": "https://localhost:8080/"
        },
        "id": "jrSMJaBW9E7K",
        "outputId": "eab038b5-eaa7-4fe0-be07-cafb091a7db2"
      },
      "execution_count": null,
      "outputs": [
        {
          "output_type": "stream",
          "name": "stdout",
          "text": [
            "Test Accuracy: 9.44%\n"
          ]
        }
      ]
    }
  ],
  "metadata": {
    "kernelspec": {
      "display_name": "Python 3",
      "name": "python3"
    },
    "language_info": {
      "codemirror_mode": {
        "name": "ipython",
        "version": 3
      },
      "file_extension": ".py",
      "mimetype": "text/x-python",
      "name": "python",
      "nbconvert_exporter": "python",
      "pygments_lexer": "ipython3",
      "version": "3.11.6"
    },
    "colab": {
      "provenance": [],
      "gpuType": "T4"
    },
    "accelerator": "GPU"
  },
  "nbformat": 4,
  "nbformat_minor": 0
}